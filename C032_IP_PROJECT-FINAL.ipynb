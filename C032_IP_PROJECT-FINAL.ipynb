{
 "cells": [
  {
   "cell_type": "code",
   "execution_count": null,
   "id": "fd2afe21",
   "metadata": {},
   "outputs": [],
   "source": [
    "# pip install pyperclip"
   ]
  },
  {
   "cell_type": "code",
   "execution_count": null,
   "id": "444f9983",
   "metadata": {},
   "outputs": [],
   "source": [
    "# pip install --upgrade opencv-python"
   ]
  },
  {
   "cell_type": "code",
   "execution_count": 1,
   "id": "39c4ec4a",
   "metadata": {},
   "outputs": [],
   "source": [
    "import cv2\n",
    "from pyzbar.pyzbar import decode\n",
    "import pyperclip  # Required library for clipboard functionality\n",
    "import datetime"
   ]
  },
  {
   "cell_type": "code",
   "execution_count": 2,
   "id": "382ed31c",
   "metadata": {},
   "outputs": [
    {
     "data": {
      "text/plain": [
       "True"
      ]
     },
     "execution_count": 2,
     "metadata": {},
     "output_type": "execute_result"
    }
   ],
   "source": [
    "# Load the image\n",
    "image = cv2.imread(r'C:\\Users\\Hiran\\OneDrive\\Desktop\\test1.png')\n",
    "\n",
    "# Convert the image to grayscale (this can help with barcode detection)\n",
    "gray = cv2.cvtColor(image, cv2.COLOR_BGR2GRAY)\n",
    "cv2.imshow('Gray Image', gray)\n",
    "\n",
    "# Wait for a key press and then close the window\n",
    "cv2.waitKey(0)\n",
    "cv2.destroyAllWindows()\n",
    "cv2.imwrite('input.jpg', gray)"
   ]
  },
  {
   "cell_type": "code",
   "execution_count": 3,
   "id": "f48dba48",
   "metadata": {},
   "outputs": [
    {
     "name": "stdout",
     "output_type": "stream",
     "text": [
      "[Decoded(data=b'GOAL', type='QRCODE', rect=Rect(left=16, top=16, width=168, height=168), polygon=[Point(x=16, y=16), Point(x=16, y=184), Point(x=184, y=184), Point(x=184, y=16)], quality=1, orientation='UP')]\n",
      "QRCODE\n"
     ]
    }
   ],
   "source": [
    "# Use the decode function from pyzbar to detect QR codes and barcodes\n",
    "decoded_objects = decode(gray)\n",
    "print(decoded_objects)\n",
    "\n",
    "detected_data = []  # List to store detected data\n",
    "\n",
    "for obj in decoded_objects:\n",
    "    cv2.rectangle(gray, (obj.rect[0], obj.rect[1]), (obj.rect[0] + obj.rect[2], obj.rect[1] + obj.rect[3]), (0, 0, 0), 4)\n",
    "\n",
    "    # Get the barcode or QR code data\n",
    "    barcode_data = obj.data.decode('utf-8')\n",
    "\n",
    "    # Display the data near the object\n",
    "    cv2.putText(gray, barcode_data, (10, 30), cv2.FONT_HERSHEY_SIMPLEX, 0.5, (0, 0, 255), 2)\n",
    "\n",
    "    detected_data.append(barcode_data)  # Add detected data to the list\n",
    "    print(obj.type)\n",
    "\n",
    "# Copy the detected data to the clipboard (if any data is detected)\n",
    "if detected_data:\n",
    "    data_to_copy = '\\n'.join(detected_data)\n",
    "    pyperclip.copy(data_to_copy)\n",
    "\n",
    "# Add a date and time stamp to the image\n",
    "current_datetime = datetime.datetime.now().strftime('%Y-%m-%d %H:%M:%S')\n",
    "cv2.putText(gray, current_datetime, (10, 10), cv2.FONT_HERSHEY_SIMPLEX, 0.5, (0, 0, 255), 2)\n",
    "\n",
    "# Save the processed image with bounding boxes, data, and date/time stamp\n",
    "output_image_path = 'output_image.jpg'\n",
    "cv2.imwrite(output_image_path, gray)\n",
    "\n",
    "# Display the processed image with detection and date/time stamp\n",
    "cv2.imshow('Barcode/QR Code Detector', gray)\n",
    "\n",
    "# Wait for a key press and then close the window\n",
    "cv2.waitKey(0)\n",
    "cv2.destroyAllWindows()\n"
   ]
  },
  {
   "cell_type": "code",
   "execution_count": null,
   "id": "ca2a6236",
   "metadata": {},
   "outputs": [
    {
     "name": "stdout",
     "output_type": "stream",
     "text": [
      "Clipboard content:\n",
      "GOAL\n",
      "\n",
      "\n"
     ]
    }
   ],
   "source": [
    "previous_clipboard_content = None\n",
    "while True:\n",
    "    clipboard_content = pyperclip.paste()\n",
    "\n",
    "    if clipboard_content != previous_clipboard_content:\n",
    "        print(\"Clipboard content:\")\n",
    "        print(clipboard_content)\n",
    "        print(\"\\n\")\n",
    "        previous_clipboard_content = clipboard_content"
   ]
  },
  {
   "cell_type": "code",
   "execution_count": null,
   "id": "6c409315",
   "metadata": {},
   "outputs": [],
   "source": []
  },
  {
   "cell_type": "code",
   "execution_count": null,
   "id": "d8e5347d",
   "metadata": {},
   "outputs": [],
   "source": []
  },
  {
   "cell_type": "code",
   "execution_count": null,
   "id": "dcfae1f6",
   "metadata": {},
   "outputs": [],
   "source": []
  }
 ],
 "metadata": {
  "kernelspec": {
   "display_name": "Python 3 (ipykernel)",
   "language": "python",
   "name": "python3"
  },
  "language_info": {
   "codemirror_mode": {
    "name": "ipython",
    "version": 3
   },
   "file_extension": ".py",
   "mimetype": "text/x-python",
   "name": "python",
   "nbconvert_exporter": "python",
   "pygments_lexer": "ipython3",
   "version": "3.11.4"
  }
 },
 "nbformat": 4,
 "nbformat_minor": 5
}
